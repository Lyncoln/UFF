{
 "cells": [
  {
   "cell_type": "code",
   "execution_count": 1,
   "metadata": {},
   "outputs": [
    {
     "name": "stderr",
     "output_type": "stream",
     "text": [
      "Loading required package: dplyr\n",
      "Warning message:\n",
      "\"package 'dplyr' was built under R version 3.5.3\"\n",
      "Attaching package: 'dplyr'\n",
      "\n",
      "The following objects are masked from 'package:stats':\n",
      "\n",
      "    filter, lag\n",
      "\n",
      "The following objects are masked from 'package:base':\n",
      "\n",
      "    intersect, setdiff, setequal, union\n",
      "\n",
      "Loading required package: foreign\n",
      "Warning message:\n",
      "\"package 'foreign' was built under R version 3.5.3\""
     ]
    }
   ],
   "source": [
    "require(dplyr)\n",
    "require(foreign)"
   ]
  },
  {
   "cell_type": "code",
   "execution_count": 2,
   "metadata": {
    "scrolled": false
   },
   "outputs": [
    {
     "name": "stderr",
     "output_type": "stream",
     "text": [
      "re-encoding from UTF-8\n"
     ]
    },
    {
     "data": {
      "text/html": [
       "<table>\n",
       "<caption>A data.frame: 6 × 4</caption>\n",
       "<thead>\n",
       "\t<tr><th scope=col>Idade</th><th scope=col>Sexo</th><th scope=col>ln_Tempo_vida</th><th scope=col>Historia_alcool</th></tr>\n",
       "\t<tr><th scope=col>&lt;dbl&gt;</th><th scope=col>&lt;fct&gt;</th><th scope=col>&lt;dbl&gt;</th><th scope=col>&lt;fct&gt;</th></tr>\n",
       "</thead>\n",
       "<tbody>\n",
       "\t<tr><td>50</td><td>Homem </td><td>6.543912</td><td>Uso moderado</td></tr>\n",
       "\t<tr><td>39</td><td>Homem </td><td>5.998937</td><td>Uso severo  </td></tr>\n",
       "\t<tr><td>55</td><td>Homem </td><td>6.565265</td><td>Uso severo  </td></tr>\n",
       "\t<tr><td>48</td><td>Homem </td><td>5.855072</td><td>Uso severo  </td></tr>\n",
       "\t<tr><td>45</td><td>Homem </td><td>7.759187</td><td>Nunca usou  </td></tr>\n",
       "\t<tr><td>65</td><td>Mulher</td><td>5.852202</td><td>Uso moderado</td></tr>\n",
       "</tbody>\n",
       "</table>\n"
      ],
      "text/latex": [
       "A data.frame: 6 × 4\n",
       "\\begin{tabular}{r|llll}\n",
       " Idade & Sexo & ln\\_Tempo\\_vida & Historia\\_alcool\\\\\n",
       " <dbl> & <fct> & <dbl> & <fct>\\\\\n",
       "\\hline\n",
       "\t 50 & Homem  & 6.543912 & Uso moderado\\\\\n",
       "\t 39 & Homem  & 5.998937 & Uso severo  \\\\\n",
       "\t 55 & Homem  & 6.565265 & Uso severo  \\\\\n",
       "\t 48 & Homem  & 5.855072 & Uso severo  \\\\\n",
       "\t 45 & Homem  & 7.759187 & Nunca usou  \\\\\n",
       "\t 65 & Mulher & 5.852202 & Uso moderado\\\\\n",
       "\\end{tabular}\n"
      ],
      "text/markdown": [
       "\n",
       "A data.frame: 6 × 4\n",
       "\n",
       "| Idade &lt;dbl&gt; | Sexo &lt;fct&gt; | ln_Tempo_vida &lt;dbl&gt; | Historia_alcool &lt;fct&gt; |\n",
       "|---|---|---|---|\n",
       "| 50 | Homem  | 6.543912 | Uso moderado |\n",
       "| 39 | Homem  | 5.998937 | Uso severo   |\n",
       "| 55 | Homem  | 6.565265 | Uso severo   |\n",
       "| 48 | Homem  | 5.855072 | Uso severo   |\n",
       "| 45 | Homem  | 7.759187 | Nunca usou   |\n",
       "| 65 | Mulher | 5.852202 | Uso moderado |\n",
       "\n"
      ],
      "text/plain": [
       "  Idade Sexo   ln_Tempo_vida Historia_alcool\n",
       "1 50    Homem  6.543912      Uso moderado   \n",
       "2 39    Homem  5.998937      Uso severo     \n",
       "3 55    Homem  6.565265      Uso severo     \n",
       "4 48    Homem  5.855072      Uso severo     \n",
       "5 45    Homem  7.759187      Nunca usou     \n",
       "6 65    Mulher 5.852202      Uso moderado   "
      ]
     },
     "metadata": {},
     "output_type": "display_data"
    }
   ],
   "source": [
    "data = foreign::read.spss(\"tvida.sav\", to.data.frame = TRUE)\n",
    "head(data)"
   ]
  },
  {
   "cell_type": "code",
   "execution_count": 3,
   "metadata": {},
   "outputs": [],
   "source": [
    "colnames(data) = tolower(colnames(data))"
   ]
  },
  {
   "cell_type": "code",
   "execution_count": 4,
   "metadata": {},
   "outputs": [
    {
     "data": {
      "text/html": [
       "<table>\n",
       "<caption>A data.frame: 6 × 5</caption>\n",
       "<thead>\n",
       "\t<tr><th scope=col>ln_tempo_vida</th><th scope=col>idade</th><th scope=col>sexo</th><th scope=col>alcool_severo</th><th scope=col>alcool_moderado</th></tr>\n",
       "\t<tr><th scope=col>&lt;dbl&gt;</th><th scope=col>&lt;dbl&gt;</th><th scope=col>&lt;dbl&gt;</th><th scope=col>&lt;dbl&gt;</th><th scope=col>&lt;dbl&gt;</th></tr>\n",
       "</thead>\n",
       "<tbody>\n",
       "\t<tr><td>6.543912</td><td>50</td><td>0</td><td>0</td><td>1</td></tr>\n",
       "\t<tr><td>5.998937</td><td>39</td><td>0</td><td>1</td><td>0</td></tr>\n",
       "\t<tr><td>6.565265</td><td>55</td><td>0</td><td>1</td><td>0</td></tr>\n",
       "\t<tr><td>5.855072</td><td>48</td><td>0</td><td>1</td><td>0</td></tr>\n",
       "\t<tr><td>7.759187</td><td>45</td><td>0</td><td>0</td><td>0</td></tr>\n",
       "\t<tr><td>5.852202</td><td>65</td><td>1</td><td>0</td><td>1</td></tr>\n",
       "</tbody>\n",
       "</table>\n"
      ],
      "text/latex": [
       "A data.frame: 6 × 5\n",
       "\\begin{tabular}{r|lllll}\n",
       " ln\\_tempo\\_vida & idade & sexo & alcool\\_severo & alcool\\_moderado\\\\\n",
       " <dbl> & <dbl> & <dbl> & <dbl> & <dbl>\\\\\n",
       "\\hline\n",
       "\t 6.543912 & 50 & 0 & 0 & 1\\\\\n",
       "\t 5.998937 & 39 & 0 & 1 & 0\\\\\n",
       "\t 6.565265 & 55 & 0 & 1 & 0\\\\\n",
       "\t 5.855072 & 48 & 0 & 1 & 0\\\\\n",
       "\t 7.759187 & 45 & 0 & 0 & 0\\\\\n",
       "\t 5.852202 & 65 & 1 & 0 & 1\\\\\n",
       "\\end{tabular}\n"
      ],
      "text/markdown": [
       "\n",
       "A data.frame: 6 × 5\n",
       "\n",
       "| ln_tempo_vida &lt;dbl&gt; | idade &lt;dbl&gt; | sexo &lt;dbl&gt; | alcool_severo &lt;dbl&gt; | alcool_moderado &lt;dbl&gt; |\n",
       "|---|---|---|---|---|\n",
       "| 6.543912 | 50 | 0 | 0 | 1 |\n",
       "| 5.998937 | 39 | 0 | 1 | 0 |\n",
       "| 6.565265 | 55 | 0 | 1 | 0 |\n",
       "| 5.855072 | 48 | 0 | 1 | 0 |\n",
       "| 7.759187 | 45 | 0 | 0 | 0 |\n",
       "| 5.852202 | 65 | 1 | 0 | 1 |\n",
       "\n"
      ],
      "text/plain": [
       "  ln_tempo_vida idade sexo alcool_severo alcool_moderado\n",
       "1 6.543912      50    0    0             1              \n",
       "2 5.998937      39    0    1             0              \n",
       "3 6.565265      55    0    1             0              \n",
       "4 5.855072      48    0    1             0              \n",
       "5 7.759187      45    0    0             0              \n",
       "6 5.852202      65    1    0             1              "
      ]
     },
     "metadata": {},
     "output_type": "display_data"
    }
   ],
   "source": [
    "data = data %>% mutate(sexo = ifelse(sexo == \"Mulher\",1, 0),\n",
    "               alcool_severo = ifelse(historia_alcool == \"Uso severo\", 1, 0),\n",
    "               alcool_moderado = ifelse(historia_alcool == \"Uso moderado\", 1, 0)) %>% select(-historia_alcool) %>% \n",
    "    select(ln_tempo_vida, everything())\n",
    "\n",
    "head(data)"
   ]
  },
  {
   "cell_type": "code",
   "execution_count": 5,
   "metadata": {},
   "outputs": [
    {
     "data": {
      "text/plain": [
       "\n",
       "Call:\n",
       "lm(formula = ln_tempo_vida ~ idade + sexo + alcool_severo + alcool_moderado, \n",
       "    data = data)\n",
       "\n",
       "Residuals:\n",
       "     Min       1Q   Median       3Q      Max \n",
       "-0.98061 -0.27959 -0.04071  0.26834  1.02700 \n",
       "\n",
       "Coefficients:\n",
       "                 Estimate Std. Error t value Pr(>|t|)    \n",
       "(Intercept)      6.956899   0.314901  22.092  < 2e-16 ***\n",
       "idade           -0.004994   0.005638  -0.886  0.38011    \n",
       "sexo             0.248113   0.123322   2.012  0.04974 *  \n",
       "alcool_severo   -0.533359   0.184475  -2.891  0.00571 ** \n",
       "alcool_moderado -0.438230   0.167344  -2.619  0.01171 *  \n",
       "---\n",
       "Signif. codes:  0 '***' 0.001 '**' 0.01 '*' 0.05 '.' 0.1 ' ' 1\n",
       "\n",
       "Residual standard error: 0.451 on 49 degrees of freedom\n",
       "Multiple R-squared:  0.2216,\tAdjusted R-squared:  0.1581 \n",
       "F-statistic: 3.488 on 4 and 49 DF,  p-value: 0.01388\n"
      ]
     },
     "metadata": {},
     "output_type": "display_data"
    }
   ],
   "source": [
    "modelo_1 = lm(ln_tempo_vida ~ idade + sexo + alcool_severo + alcool_moderado, data); summary(modelo_1)"
   ]
  },
  {
   "cell_type": "code",
   "execution_count": 6,
   "metadata": {},
   "outputs": [
    {
     "data": {
      "text/plain": [
       "\n",
       "Call:\n",
       "lm(formula = ln_tempo_vida ~ idade + sexo, data = data)\n",
       "\n",
       "Residuals:\n",
       "    Min      1Q  Median      3Q     Max \n",
       "-1.0839 -0.2634 -0.0522  0.2195  1.3911 \n",
       "\n",
       "Coefficients:\n",
       "             Estimate Std. Error t value Pr(>|t|)    \n",
       "(Intercept)  6.659192   0.319554  20.839   <2e-16 ***\n",
       "idade       -0.006470   0.005951  -1.087   0.2821    \n",
       "sexo         0.227358   0.131506   1.729   0.0899 .  \n",
       "---\n",
       "Signif. codes:  0 '***' 0.001 '**' 0.01 '*' 0.05 '.' 0.1 ' ' 1\n",
       "\n",
       "Residual standard error: 0.4818 on 51 degrees of freedom\n",
       "Multiple R-squared:  0.07524,\tAdjusted R-squared:  0.03897 \n",
       "F-statistic: 2.075 on 2 and 51 DF,  p-value: 0.1361\n"
      ]
     },
     "metadata": {},
     "output_type": "display_data"
    },
    {
     "data": {
      "text/html": [
       "<table>\n",
       "<caption>A anova: 2 × 6</caption>\n",
       "<thead>\n",
       "\t<tr><th scope=col>Res.Df</th><th scope=col>RSS</th><th scope=col>Df</th><th scope=col>Sum of Sq</th><th scope=col>F</th><th scope=col>Pr(&gt;F)</th></tr>\n",
       "\t<tr><th scope=col>&lt;dbl&gt;</th><th scope=col>&lt;dbl&gt;</th><th scope=col>&lt;dbl&gt;</th><th scope=col>&lt;dbl&gt;</th><th scope=col>&lt;dbl&gt;</th><th scope=col>&lt;dbl&gt;</th></tr>\n",
       "</thead>\n",
       "<tbody>\n",
       "\t<tr><td>51</td><td>11.841121</td><td>NA</td><td>      NA</td><td>      NA</td><td>        NA</td></tr>\n",
       "\t<tr><td>49</td><td> 9.966843</td><td> 2</td><td>1.874279</td><td>4.607259</td><td>0.01467361</td></tr>\n",
       "</tbody>\n",
       "</table>\n"
      ],
      "text/latex": [
       "A anova: 2 × 6\n",
       "\\begin{tabular}{r|llllll}\n",
       " Res.Df & RSS & Df & Sum of Sq & F & Pr(>F)\\\\\n",
       " <dbl> & <dbl> & <dbl> & <dbl> & <dbl> & <dbl>\\\\\n",
       "\\hline\n",
       "\t 51 & 11.841121 & NA &       NA &       NA &         NA\\\\\n",
       "\t 49 &  9.966843 &  2 & 1.874279 & 4.607259 & 0.01467361\\\\\n",
       "\\end{tabular}\n"
      ],
      "text/markdown": [
       "\n",
       "A anova: 2 × 6\n",
       "\n",
       "| Res.Df &lt;dbl&gt; | RSS &lt;dbl&gt; | Df &lt;dbl&gt; | Sum of Sq &lt;dbl&gt; | F &lt;dbl&gt; | Pr(&gt;F) &lt;dbl&gt; |\n",
       "|---|---|---|---|---|---|\n",
       "| 51 | 11.841121 | NA |       NA |       NA |         NA |\n",
       "| 49 |  9.966843 |  2 | 1.874279 | 4.607259 | 0.01467361 |\n",
       "\n"
      ],
      "text/plain": [
       "  Res.Df RSS       Df Sum of Sq F        Pr(>F)    \n",
       "1 51     11.841121 NA       NA        NA         NA\n",
       "2 49      9.966843  2 1.874279  4.607259 0.01467361"
      ]
     },
     "metadata": {},
     "output_type": "display_data"
    }
   ],
   "source": [
    "modelo_2 = lm(ln_tempo_vida ~ idade + sexo, data); summary(modelo_2)\n",
    "anova(modelo_2, modelo_1)"
   ]
  },
  {
   "cell_type": "markdown",
   "metadata": {},
   "source": [
    "Então ficamos com o modelo completo"
   ]
  },
  {
   "cell_type": "code",
   "execution_count": 9,
   "metadata": {},
   "outputs": [
    {
     "data": {
      "text/html": [
       "<table>\n",
       "<caption>A anova: 2 × 6</caption>\n",
       "<thead>\n",
       "\t<tr><th scope=col>Res.Df</th><th scope=col>RSS</th><th scope=col>Df</th><th scope=col>Sum of Sq</th><th scope=col>F</th><th scope=col>Pr(&gt;F)</th></tr>\n",
       "\t<tr><th scope=col>&lt;dbl&gt;</th><th scope=col>&lt;dbl&gt;</th><th scope=col>&lt;dbl&gt;</th><th scope=col>&lt;dbl&gt;</th><th scope=col>&lt;dbl&gt;</th><th scope=col>&lt;dbl&gt;</th></tr>\n",
       "</thead>\n",
       "<tbody>\n",
       "\t<tr><td>50</td><td>10.790188</td><td>NA</td><td>       NA</td><td>      NA</td><td>        NA</td></tr>\n",
       "\t<tr><td>49</td><td> 9.966843</td><td> 1</td><td>0.8233454</td><td>4.047814</td><td>0.04974377</td></tr>\n",
       "</tbody>\n",
       "</table>\n"
      ],
      "text/latex": [
       "A anova: 2 × 6\n",
       "\\begin{tabular}{r|llllll}\n",
       " Res.Df & RSS & Df & Sum of Sq & F & Pr(>F)\\\\\n",
       " <dbl> & <dbl> & <dbl> & <dbl> & <dbl> & <dbl>\\\\\n",
       "\\hline\n",
       "\t 50 & 10.790188 & NA &        NA &       NA &         NA\\\\\n",
       "\t 49 &  9.966843 &  1 & 0.8233454 & 4.047814 & 0.04974377\\\\\n",
       "\\end{tabular}\n"
      ],
      "text/markdown": [
       "\n",
       "A anova: 2 × 6\n",
       "\n",
       "| Res.Df &lt;dbl&gt; | RSS &lt;dbl&gt; | Df &lt;dbl&gt; | Sum of Sq &lt;dbl&gt; | F &lt;dbl&gt; | Pr(&gt;F) &lt;dbl&gt; |\n",
       "|---|---|---|---|---|---|\n",
       "| 50 | 10.790188 | NA |        NA |       NA |         NA |\n",
       "| 49 |  9.966843 |  1 | 0.8233454 | 4.047814 | 0.04974377 |\n",
       "\n"
      ],
      "text/plain": [
       "  Res.Df RSS       Df Sum of Sq F        Pr(>F)    \n",
       "1 50     10.790188 NA        NA       NA         NA\n",
       "2 49      9.966843  1 0.8233454 4.047814 0.04974377"
      ]
     },
     "metadata": {},
     "output_type": "display_data"
    }
   ],
   "source": [
    "modelo_3 = lm(ln_tempo_vida ~ idade + alcool_severo + alcool_moderado, data)\n",
    "anova(modelo_3, modelo_1)"
   ]
  },
  {
   "cell_type": "code",
   "execution_count": 10,
   "metadata": {},
   "outputs": [
    {
     "data": {
      "text/html": [
       "<table>\n",
       "<caption>A anova: 2 × 6</caption>\n",
       "<thead>\n",
       "\t<tr><th scope=col>Res.Df</th><th scope=col>RSS</th><th scope=col>Df</th><th scope=col>Sum of Sq</th><th scope=col>F</th><th scope=col>Pr(&gt;F)</th></tr>\n",
       "\t<tr><th scope=col>&lt;dbl&gt;</th><th scope=col>&lt;dbl&gt;</th><th scope=col>&lt;dbl&gt;</th><th scope=col>&lt;dbl&gt;</th><th scope=col>&lt;dbl&gt;</th><th scope=col>&lt;dbl&gt;</th></tr>\n",
       "</thead>\n",
       "<tbody>\n",
       "\t<tr><td>50</td><td>10.126406</td><td>NA</td><td>       NA</td><td>       NA</td><td>       NA</td></tr>\n",
       "\t<tr><td>49</td><td> 9.966843</td><td> 1</td><td>0.1595629</td><td>0.7844591</td><td>0.3801069</td></tr>\n",
       "</tbody>\n",
       "</table>\n"
      ],
      "text/latex": [
       "A anova: 2 × 6\n",
       "\\begin{tabular}{r|llllll}\n",
       " Res.Df & RSS & Df & Sum of Sq & F & Pr(>F)\\\\\n",
       " <dbl> & <dbl> & <dbl> & <dbl> & <dbl> & <dbl>\\\\\n",
       "\\hline\n",
       "\t 50 & 10.126406 & NA &        NA &        NA &        NA\\\\\n",
       "\t 49 &  9.966843 &  1 & 0.1595629 & 0.7844591 & 0.3801069\\\\\n",
       "\\end{tabular}\n"
      ],
      "text/markdown": [
       "\n",
       "A anova: 2 × 6\n",
       "\n",
       "| Res.Df &lt;dbl&gt; | RSS &lt;dbl&gt; | Df &lt;dbl&gt; | Sum of Sq &lt;dbl&gt; | F &lt;dbl&gt; | Pr(&gt;F) &lt;dbl&gt; |\n",
       "|---|---|---|---|---|---|\n",
       "| 50 | 10.126406 | NA |        NA |        NA |        NA |\n",
       "| 49 |  9.966843 |  1 | 0.1595629 | 0.7844591 | 0.3801069 |\n",
       "\n"
      ],
      "text/plain": [
       "  Res.Df RSS       Df Sum of Sq F         Pr(>F)   \n",
       "1 50     10.126406 NA        NA        NA        NA\n",
       "2 49      9.966843  1 0.1595629 0.7844591 0.3801069"
      ]
     },
     "metadata": {},
     "output_type": "display_data"
    }
   ],
   "source": [
    "modelo_4 = lm(ln_tempo_vida ~ sexo + alcool_severo + alcool_moderado, data)\n",
    "anova(modelo_4, modelo_1)"
   ]
  },
  {
   "cell_type": "code",
   "execution_count": null,
   "metadata": {},
   "outputs": [],
   "source": []
  }
 ],
 "metadata": {
  "kernelspec": {
   "display_name": "R",
   "language": "R",
   "name": "ir"
  },
  "language_info": {
   "codemirror_mode": "r",
   "file_extension": ".r",
   "mimetype": "text/x-r-source",
   "name": "R",
   "pygments_lexer": "r",
   "version": "3.5.1"
  }
 },
 "nbformat": 4,
 "nbformat_minor": 2
}
